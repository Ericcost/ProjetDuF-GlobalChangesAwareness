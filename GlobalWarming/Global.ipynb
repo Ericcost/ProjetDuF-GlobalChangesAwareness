{
 "cells": [
  {
   "cell_type": "code",
   "execution_count": null,
   "id": "033bec9d",
   "metadata": {},
   "outputs": [],
   "source": [
    "import pandas as pd\n",
    "import numpy as np\n",
    "import matplotlib.pyplot as plt\n",
    "import plotly.express as px\n",
    "import seaborn as sns"
   ]
  },
  {
   "cell_type": "code",
   "execution_count": null,
   "metadata": {},
   "outputs": [],
   "source": [
    "# Files\n",
    "df_FC = pd.read_csv('./Forest_and_Carbon.csv')\n",
    "df_C02 = pd.read_csv('./Atmospheric_CO2_Concentrations.csv')"
   ]
  },
  {
   "cell_type": "code",
   "execution_count": null,
   "id": "278b2dc1",
   "metadata": {},
   "outputs": [],
   "source": []
  }
 ],
 "metadata": {
  "language_info": {
   "name": "python"
  }
 },
 "nbformat": 4,
 "nbformat_minor": 5
}
